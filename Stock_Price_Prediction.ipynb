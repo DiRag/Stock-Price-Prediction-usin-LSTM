{
  "nbformat": 4,
  "nbformat_minor": 0,
  "metadata": {
    "colab": {
      "name": "Stock Price Prediction",
      "provenance": []
    },
    "kernelspec": {
      "name": "python3",
      "display_name": "Python 3"
    }
  },
  "cells": [
    {
      "cell_type": "code",
      "metadata": {
        "colab": {
          "base_uri": "https://localhost:8080/"
        },
        "id": "o9AQ32GGPEdl",
        "outputId": "95b8eba3-8e3b-4702-c992-0289233e863d"
      },
      "source": [
        "!pip install keras\r\n",
        "!pip install tensorflow"
      ],
      "execution_count": 3,
      "outputs": [
        {
          "output_type": "stream",
          "text": [
            "Requirement already satisfied: keras in /usr/local/lib/python3.7/dist-packages (2.4.3)\n",
            "Requirement already satisfied: h5py in /usr/local/lib/python3.7/dist-packages (from keras) (2.10.0)\n",
            "Requirement already satisfied: numpy>=1.9.1 in /usr/local/lib/python3.7/dist-packages (from keras) (1.19.5)\n",
            "Requirement already satisfied: scipy>=0.14 in /usr/local/lib/python3.7/dist-packages (from keras) (1.4.1)\n",
            "Requirement already satisfied: pyyaml in /usr/local/lib/python3.7/dist-packages (from keras) (3.13)\n",
            "Requirement already satisfied: six in /usr/local/lib/python3.7/dist-packages (from h5py->keras) (1.15.0)\n",
            "Requirement already satisfied: tensorflow in /usr/local/lib/python3.7/dist-packages (2.4.1)\n",
            "Requirement already satisfied: keras-preprocessing~=1.1.2 in /usr/local/lib/python3.7/dist-packages (from tensorflow) (1.1.2)\n",
            "Requirement already satisfied: tensorboard~=2.4 in /usr/local/lib/python3.7/dist-packages (from tensorflow) (2.4.1)\n",
            "Requirement already satisfied: gast==0.3.3 in /usr/local/lib/python3.7/dist-packages (from tensorflow) (0.3.3)\n",
            "Requirement already satisfied: wheel~=0.35 in /usr/local/lib/python3.7/dist-packages (from tensorflow) (0.36.2)\n",
            "Requirement already satisfied: grpcio~=1.32.0 in /usr/local/lib/python3.7/dist-packages (from tensorflow) (1.32.0)\n",
            "Requirement already satisfied: astunparse~=1.6.3 in /usr/local/lib/python3.7/dist-packages (from tensorflow) (1.6.3)\n",
            "Requirement already satisfied: termcolor~=1.1.0 in /usr/local/lib/python3.7/dist-packages (from tensorflow) (1.1.0)\n",
            "Requirement already satisfied: flatbuffers~=1.12.0 in /usr/local/lib/python3.7/dist-packages (from tensorflow) (1.12)\n",
            "Requirement already satisfied: numpy~=1.19.2 in /usr/local/lib/python3.7/dist-packages (from tensorflow) (1.19.5)\n",
            "Requirement already satisfied: protobuf>=3.9.2 in /usr/local/lib/python3.7/dist-packages (from tensorflow) (3.12.4)\n",
            "Requirement already satisfied: typing-extensions~=3.7.4 in /usr/local/lib/python3.7/dist-packages (from tensorflow) (3.7.4.3)\n",
            "Requirement already satisfied: absl-py~=0.10 in /usr/local/lib/python3.7/dist-packages (from tensorflow) (0.10.0)\n",
            "Requirement already satisfied: tensorflow-estimator<2.5.0,>=2.4.0 in /usr/local/lib/python3.7/dist-packages (from tensorflow) (2.4.0)\n",
            "Requirement already satisfied: wrapt~=1.12.1 in /usr/local/lib/python3.7/dist-packages (from tensorflow) (1.12.1)\n",
            "Requirement already satisfied: opt-einsum~=3.3.0 in /usr/local/lib/python3.7/dist-packages (from tensorflow) (3.3.0)\n",
            "Requirement already satisfied: six~=1.15.0 in /usr/local/lib/python3.7/dist-packages (from tensorflow) (1.15.0)\n",
            "Requirement already satisfied: h5py~=2.10.0 in /usr/local/lib/python3.7/dist-packages (from tensorflow) (2.10.0)\n",
            "Requirement already satisfied: google-pasta~=0.2 in /usr/local/lib/python3.7/dist-packages (from tensorflow) (0.2.0)\n",
            "Requirement already satisfied: markdown>=2.6.8 in /usr/local/lib/python3.7/dist-packages (from tensorboard~=2.4->tensorflow) (3.3.4)\n",
            "Requirement already satisfied: google-auth-oauthlib<0.5,>=0.4.1 in /usr/local/lib/python3.7/dist-packages (from tensorboard~=2.4->tensorflow) (0.4.2)\n",
            "Requirement already satisfied: requests<3,>=2.21.0 in /usr/local/lib/python3.7/dist-packages (from tensorboard~=2.4->tensorflow) (2.23.0)\n",
            "Requirement already satisfied: werkzeug>=0.11.15 in /usr/local/lib/python3.7/dist-packages (from tensorboard~=2.4->tensorflow) (1.0.1)\n",
            "Requirement already satisfied: tensorboard-plugin-wit>=1.6.0 in /usr/local/lib/python3.7/dist-packages (from tensorboard~=2.4->tensorflow) (1.8.0)\n",
            "Requirement already satisfied: setuptools>=41.0.0 in /usr/local/lib/python3.7/dist-packages (from tensorboard~=2.4->tensorflow) (54.0.0)\n",
            "Requirement already satisfied: google-auth<2,>=1.6.3 in /usr/local/lib/python3.7/dist-packages (from tensorboard~=2.4->tensorflow) (1.27.0)\n",
            "Requirement already satisfied: importlib-metadata; python_version < \"3.8\" in /usr/local/lib/python3.7/dist-packages (from markdown>=2.6.8->tensorboard~=2.4->tensorflow) (3.7.0)\n",
            "Requirement already satisfied: requests-oauthlib>=0.7.0 in /usr/local/lib/python3.7/dist-packages (from google-auth-oauthlib<0.5,>=0.4.1->tensorboard~=2.4->tensorflow) (1.3.0)\n",
            "Requirement already satisfied: chardet<4,>=3.0.2 in /usr/local/lib/python3.7/dist-packages (from requests<3,>=2.21.0->tensorboard~=2.4->tensorflow) (3.0.4)\n",
            "Requirement already satisfied: idna<3,>=2.5 in /usr/local/lib/python3.7/dist-packages (from requests<3,>=2.21.0->tensorboard~=2.4->tensorflow) (2.10)\n",
            "Requirement already satisfied: urllib3!=1.25.0,!=1.25.1,<1.26,>=1.21.1 in /usr/local/lib/python3.7/dist-packages (from requests<3,>=2.21.0->tensorboard~=2.4->tensorflow) (1.24.3)\n",
            "Requirement already satisfied: certifi>=2017.4.17 in /usr/local/lib/python3.7/dist-packages (from requests<3,>=2.21.0->tensorboard~=2.4->tensorflow) (2020.12.5)\n",
            "Requirement already satisfied: cachetools<5.0,>=2.0.0 in /usr/local/lib/python3.7/dist-packages (from google-auth<2,>=1.6.3->tensorboard~=2.4->tensorflow) (4.2.1)\n",
            "Requirement already satisfied: pyasn1-modules>=0.2.1 in /usr/local/lib/python3.7/dist-packages (from google-auth<2,>=1.6.3->tensorboard~=2.4->tensorflow) (0.2.8)\n",
            "Requirement already satisfied: rsa<5,>=3.1.4; python_version >= \"3.6\" in /usr/local/lib/python3.7/dist-packages (from google-auth<2,>=1.6.3->tensorboard~=2.4->tensorflow) (4.7.2)\n",
            "Requirement already satisfied: zipp>=0.5 in /usr/local/lib/python3.7/dist-packages (from importlib-metadata; python_version < \"3.8\"->markdown>=2.6.8->tensorboard~=2.4->tensorflow) (3.4.0)\n",
            "Requirement already satisfied: oauthlib>=3.0.0 in /usr/local/lib/python3.7/dist-packages (from requests-oauthlib>=0.7.0->google-auth-oauthlib<0.5,>=0.4.1->tensorboard~=2.4->tensorflow) (3.1.0)\n",
            "Requirement already satisfied: pyasn1<0.5.0,>=0.4.6 in /usr/local/lib/python3.7/dist-packages (from pyasn1-modules>=0.2.1->google-auth<2,>=1.6.3->tensorboard~=2.4->tensorflow) (0.4.8)\n"
          ],
          "name": "stdout"
        }
      ]
    },
    {
      "cell_type": "code",
      "metadata": {
        "id": "Sp6qShpB7GUy"
      },
      "source": [
        "import math\r\n",
        "import pandas as pd\r\n",
        "import numpy as np\r\n",
        "import seaborn as sns\r\n",
        "import matplotlib.pyplot as plt\r\n",
        "plt.style.use('fivethirtyeight')\r\n",
        "from keras.models import Sequential\r\n",
        "from keras.layers import Dense, LSTM\r\n",
        "from sklearn.preprocessing import MinMaxScaler\r\n",
        "from sklearn.model_selection import train_test_split\r\n",
        "import pandas_datareader as web"
      ],
      "execution_count": 96,
      "outputs": []
    },
    {
      "cell_type": "code",
      "metadata": {
        "id": "EKcox8HdjMrB"
      },
      "source": [
        "df = pd.read_csv('apple.csv',index_col=\"Date\",parse_dates=True)\n"
      ],
      "execution_count": 40,
      "outputs": []
    },
    {
      "cell_type": "code",
      "metadata": {
        "id": "kK0oXlec72kW",
        "colab": {
          "base_uri": "https://localhost:8080/",
          "height": 657
        },
        "outputId": "0f408a33-758f-42dc-a055-2d1fa9e31585"
      },
      "source": [
        "df"
      ],
      "execution_count": 41,
      "outputs": [
        {
          "output_type": "execute_result",
          "data": {
            "text/html": [
              "<div>\n",
              "<style scoped>\n",
              "    .dataframe tbody tr th:only-of-type {\n",
              "        vertical-align: middle;\n",
              "    }\n",
              "\n",
              "    .dataframe tbody tr th {\n",
              "        vertical-align: top;\n",
              "    }\n",
              "\n",
              "    .dataframe thead th {\n",
              "        text-align: right;\n",
              "    }\n",
              "</style>\n",
              "<table border=\"1\" class=\"dataframe\">\n",
              "  <thead>\n",
              "    <tr style=\"text-align: right;\">\n",
              "      <th></th>\n",
              "      <th>Open</th>\n",
              "      <th>High</th>\n",
              "      <th>Low</th>\n",
              "      <th>Close</th>\n",
              "      <th>Volume</th>\n",
              "      <th>Ex-Dividend</th>\n",
              "      <th>Split Ratio</th>\n",
              "      <th>Adj. Open</th>\n",
              "      <th>Adj. High</th>\n",
              "      <th>Adj. Low</th>\n",
              "      <th>Adj. Close</th>\n",
              "      <th>Adj. Volume</th>\n",
              "    </tr>\n",
              "    <tr>\n",
              "      <th>Date</th>\n",
              "      <th></th>\n",
              "      <th></th>\n",
              "      <th></th>\n",
              "      <th></th>\n",
              "      <th></th>\n",
              "      <th></th>\n",
              "      <th></th>\n",
              "      <th></th>\n",
              "      <th></th>\n",
              "      <th></th>\n",
              "      <th></th>\n",
              "      <th></th>\n",
              "    </tr>\n",
              "  </thead>\n",
              "  <tbody>\n",
              "    <tr>\n",
              "      <th>2010-01-04</th>\n",
              "      <td>213.43</td>\n",
              "      <td>214.5000</td>\n",
              "      <td>212.38</td>\n",
              "      <td>214.01</td>\n",
              "      <td>17633200.0</td>\n",
              "      <td>0.0</td>\n",
              "      <td>1.0</td>\n",
              "      <td>27.428730</td>\n",
              "      <td>27.566240</td>\n",
              "      <td>27.293790</td>\n",
              "      <td>27.503268</td>\n",
              "      <td>123432400.0</td>\n",
              "    </tr>\n",
              "    <tr>\n",
              "      <th>2010-01-05</th>\n",
              "      <td>214.60</td>\n",
              "      <td>215.5900</td>\n",
              "      <td>213.25</td>\n",
              "      <td>214.38</td>\n",
              "      <td>21496600.0</td>\n",
              "      <td>0.0</td>\n",
              "      <td>1.0</td>\n",
              "      <td>27.579091</td>\n",
              "      <td>27.706320</td>\n",
              "      <td>27.405597</td>\n",
              "      <td>27.550818</td>\n",
              "      <td>150476200.0</td>\n",
              "    </tr>\n",
              "    <tr>\n",
              "      <th>2010-01-06</th>\n",
              "      <td>214.38</td>\n",
              "      <td>215.2300</td>\n",
              "      <td>210.75</td>\n",
              "      <td>210.97</td>\n",
              "      <td>19720000.0</td>\n",
              "      <td>0.0</td>\n",
              "      <td>1.0</td>\n",
              "      <td>27.550818</td>\n",
              "      <td>27.660055</td>\n",
              "      <td>27.084312</td>\n",
              "      <td>27.112585</td>\n",
              "      <td>138040000.0</td>\n",
              "    </tr>\n",
              "    <tr>\n",
              "      <th>2010-01-07</th>\n",
              "      <td>211.75</td>\n",
              "      <td>212.0000</td>\n",
              "      <td>209.05</td>\n",
              "      <td>210.58</td>\n",
              "      <td>17040400.0</td>\n",
              "      <td>0.0</td>\n",
              "      <td>1.0</td>\n",
              "      <td>27.212826</td>\n",
              "      <td>27.244955</td>\n",
              "      <td>26.865839</td>\n",
              "      <td>27.062465</td>\n",
              "      <td>119282800.0</td>\n",
              "    </tr>\n",
              "    <tr>\n",
              "      <th>2010-01-08</th>\n",
              "      <td>210.30</td>\n",
              "      <td>212.0000</td>\n",
              "      <td>209.06</td>\n",
              "      <td>211.98</td>\n",
              "      <td>15986100.0</td>\n",
              "      <td>0.0</td>\n",
              "      <td>1.0</td>\n",
              "      <td>27.026481</td>\n",
              "      <td>27.244955</td>\n",
              "      <td>26.867124</td>\n",
              "      <td>27.242385</td>\n",
              "      <td>111902700.0</td>\n",
              "    </tr>\n",
              "    <tr>\n",
              "      <th>...</th>\n",
              "      <td>...</td>\n",
              "      <td>...</td>\n",
              "      <td>...</td>\n",
              "      <td>...</td>\n",
              "      <td>...</td>\n",
              "      <td>...</td>\n",
              "      <td>...</td>\n",
              "      <td>...</td>\n",
              "      <td>...</td>\n",
              "      <td>...</td>\n",
              "      <td>...</td>\n",
              "      <td>...</td>\n",
              "    </tr>\n",
              "    <tr>\n",
              "      <th>2016-12-23</th>\n",
              "      <td>115.59</td>\n",
              "      <td>116.5200</td>\n",
              "      <td>115.59</td>\n",
              "      <td>116.52</td>\n",
              "      <td>14249484.0</td>\n",
              "      <td>0.0</td>\n",
              "      <td>1.0</td>\n",
              "      <td>114.162295</td>\n",
              "      <td>115.080808</td>\n",
              "      <td>114.162295</td>\n",
              "      <td>115.080808</td>\n",
              "      <td>14249484.0</td>\n",
              "    </tr>\n",
              "    <tr>\n",
              "      <th>2016-12-27</th>\n",
              "      <td>116.52</td>\n",
              "      <td>117.8000</td>\n",
              "      <td>116.49</td>\n",
              "      <td>117.26</td>\n",
              "      <td>18296855.0</td>\n",
              "      <td>0.0</td>\n",
              "      <td>1.0</td>\n",
              "      <td>115.080808</td>\n",
              "      <td>116.344998</td>\n",
              "      <td>115.051178</td>\n",
              "      <td>115.811668</td>\n",
              "      <td>18296855.0</td>\n",
              "    </tr>\n",
              "    <tr>\n",
              "      <th>2016-12-28</th>\n",
              "      <td>117.52</td>\n",
              "      <td>118.0166</td>\n",
              "      <td>116.20</td>\n",
              "      <td>116.76</td>\n",
              "      <td>20905892.0</td>\n",
              "      <td>0.0</td>\n",
              "      <td>1.0</td>\n",
              "      <td>116.068456</td>\n",
              "      <td>116.558923</td>\n",
              "      <td>114.764760</td>\n",
              "      <td>115.317843</td>\n",
              "      <td>20905892.0</td>\n",
              "    </tr>\n",
              "    <tr>\n",
              "      <th>2016-12-29</th>\n",
              "      <td>116.45</td>\n",
              "      <td>117.1095</td>\n",
              "      <td>116.40</td>\n",
              "      <td>116.73</td>\n",
              "      <td>15039519.0</td>\n",
              "      <td>0.0</td>\n",
              "      <td>1.0</td>\n",
              "      <td>115.011672</td>\n",
              "      <td>115.663027</td>\n",
              "      <td>114.962290</td>\n",
              "      <td>115.288214</td>\n",
              "      <td>15039519.0</td>\n",
              "    </tr>\n",
              "    <tr>\n",
              "      <th>2016-12-30</th>\n",
              "      <td>116.65</td>\n",
              "      <td>117.2000</td>\n",
              "      <td>115.43</td>\n",
              "      <td>115.82</td>\n",
              "      <td>30586265.0</td>\n",
              "      <td>0.0</td>\n",
              "      <td>1.0</td>\n",
              "      <td>115.209202</td>\n",
              "      <td>115.752409</td>\n",
              "      <td>114.004271</td>\n",
              "      <td>114.389454</td>\n",
              "      <td>30586265.0</td>\n",
              "    </tr>\n",
              "  </tbody>\n",
              "</table>\n",
              "<p>1762 rows × 12 columns</p>\n",
              "</div>"
            ],
            "text/plain": [
              "              Open      High     Low  ...    Adj. Low  Adj. Close  Adj. Volume\n",
              "Date                                  ...                                     \n",
              "2010-01-04  213.43  214.5000  212.38  ...   27.293790   27.503268  123432400.0\n",
              "2010-01-05  214.60  215.5900  213.25  ...   27.405597   27.550818  150476200.0\n",
              "2010-01-06  214.38  215.2300  210.75  ...   27.084312   27.112585  138040000.0\n",
              "2010-01-07  211.75  212.0000  209.05  ...   26.865839   27.062465  119282800.0\n",
              "2010-01-08  210.30  212.0000  209.06  ...   26.867124   27.242385  111902700.0\n",
              "...            ...       ...     ...  ...         ...         ...          ...\n",
              "2016-12-23  115.59  116.5200  115.59  ...  114.162295  115.080808   14249484.0\n",
              "2016-12-27  116.52  117.8000  116.49  ...  115.051178  115.811668   18296855.0\n",
              "2016-12-28  117.52  118.0166  116.20  ...  114.764760  115.317843   20905892.0\n",
              "2016-12-29  116.45  117.1095  116.40  ...  114.962290  115.288214   15039519.0\n",
              "2016-12-30  116.65  117.2000  115.43  ...  114.004271  114.389454   30586265.0\n",
              "\n",
              "[1762 rows x 12 columns]"
            ]
          },
          "metadata": {
            "tags": []
          },
          "execution_count": 41
        }
      ]
    },
    {
      "cell_type": "code",
      "metadata": {
        "colab": {
          "base_uri": "https://localhost:8080/",
          "height": 336
        },
        "id": "Oa1e33ikP1WC",
        "outputId": "1de2eeff-d019-456a-9b17-d15e0fa01e6f"
      },
      "source": [
        "plt.figure(figsize = (16,8))\r\n",
        "plt.title('Close Price History')\r\n",
        "plt.plot(df['Close'])\r\n",
        "plt.xlabel('Date', fontsize=18)\r\n",
        "plt.ylabel('Close Price USD', fontsize=18)\r\n",
        "plt.show()"
      ],
      "execution_count": 42,
      "outputs": [
        {
          "output_type": "display_data",
          "data": {
            "image/png": "[encoded data removed]",
            "text/plain": [
              "<Figure size 1152x576 with 1 Axes>"
            ]
          },
          "metadata": {
            "tags": []
          }
        }
      ]
    },
    {
      "cell_type": "code",
      "metadata": {
        "colab": {
          "base_uri": "https://localhost:8080/"
        },
        "id": "SntFRWnvSlNC",
        "outputId": "a0562cc2-5757-47fa-e55a-6a382d3eb8e3"
      },
      "source": [
        "#Only Cose Column\r\n",
        "data = df.filter(['Close'])\r\n",
        "#Converting Data to numpy array\r\n",
        "dataset = data.values\r\n",
        "#Get the number of rows to train the model\r\n",
        "training_data_len = math.ceil(len(dataset) * .8)\r\n",
        "\r\n",
        "training_data_len"
      ],
      "execution_count": 43,
      "outputs": [
        {
          "output_type": "execute_result",
          "data": {
            "text/plain": [
              "1410"
            ]
          },
          "metadata": {
            "tags": []
          },
          "execution_count": 43
        }
      ]
    },
    {
      "cell_type": "code",
      "metadata": {
        "colab": {
          "base_uri": "https://localhost:8080/"
        },
        "id": "t2lFIzPiUbu7",
        "outputId": "3625bdce-4ab6-4706-a290-b71cb424d6a2"
      },
      "source": [
        "#Scaling the data\r\n",
        "scaler = MinMaxScaler(feature_range=(0,1))\r\n",
        "scaled_data = scaler.fit_transform(dataset)\r\n",
        "\r\n",
        "scaled_data"
      ],
      "execution_count": 44,
      "outputs": [
        {
          "output_type": "execute_result",
          "data": {
            "text/plain": [
              "array([[0.20223268],\n",
              "       [0.20283744],\n",
              "       [0.1972639 ],\n",
              "       ...,\n",
              "       [0.0432807 ],\n",
              "       [0.04323167],\n",
              "       [0.0417443 ]])"
            ]
          },
          "metadata": {
            "tags": []
          },
          "execution_count": 44
        }
      ]
    },
    {
      "cell_type": "code",
      "metadata": {
        "colab": {
          "base_uri": "https://localhost:8080/"
        },
        "id": "npzlDCMGVGnq",
        "outputId": "c94fd0e3-28b1-4643-fb05-3a5a362093d9"
      },
      "source": [
        "#Creating training dataset\r\n",
        "train_data = scaled_data[0:training_data_len, :]\r\n",
        "#Spiting dataset\r\n",
        "x_train = []\r\n",
        "y_train = []\r\n",
        "\r\n",
        "for i in range(60, len(train_data)):\r\n",
        "  x_train.append(train_data[i-60:i, 0])\r\n",
        "  y_train.append(train_data[i, 0])\r\n",
        "  if i<=60:\r\n",
        "    print(x_train)\r\n",
        "    print(y_train)\r\n",
        "    \r\n"
      ],
      "execution_count": 45,
      "outputs": [
        {
          "output_type": "stream",
          "text": [
            "[array([0.20223268, 0.20283744, 0.1972639 , 0.19662646, 0.19891471,\n",
            "       0.19585826, 0.19195188, 0.19674087, 0.19474682, 0.18902618,\n",
            "       0.20391618, 0.19849792, 0.19252721, 0.17565624, 0.18435978,\n",
            "       0.18904253, 0.19221993, 0.17817332, 0.16636102, 0.17072015,\n",
            "       0.17256709, 0.17807525, 0.16633977, 0.17191331, 0.16972312,\n",
            "       0.17310647, 0.17135105, 0.17715995, 0.17995489, 0.18489098,\n",
            "       0.18350168, 0.18411951, 0.18206335, 0.18001373, 0.17452682,\n",
            "       0.180406  , 0.18260273, 0.18688503, 0.19402766, 0.19379883,\n",
            "       0.19458337, 0.19683894, 0.21030695, 0.21051943, 0.21695924,\n",
            "       0.21993397, 0.22101272, 0.22281063, 0.2182995 , 0.21929653,\n",
            "       0.21875715, 0.21962342, 0.21570053, 0.21978687, 0.22568729,\n",
            "       0.22733811, 0.22289235, 0.22983884, 0.2322742 , 0.23792128])]\n",
            "[0.23654015887025592]\n"
          ],
          "name": "stdout"
        }
      ]
    },
    {
      "cell_type": "code",
      "metadata": {
        "colab": {
          "base_uri": "https://localhost:8080/"
        },
        "id": "Kl6Fk6Q-VG5b",
        "outputId": "6cabddef-b46c-44b8-bc94-0855cce94be9"
      },
      "source": [
        "#Converting dataset into numpy\r\n",
        "x_train, y_train = np.array(x_train), np.array(y_train)\r\n",
        "#Reshaping the data\r\n",
        "x_train = np.reshape(x_train,(x_train.shape[0], x_train.shape[1], 1))\r\n",
        "x_train.shape"
      ],
      "execution_count": 46,
      "outputs": [
        {
          "output_type": "execute_result",
          "data": {
            "text/plain": [
              "(1350, 60, 1)"
            ]
          },
          "metadata": {
            "tags": []
          },
          "execution_count": 46
        }
      ]
    },
    {
      "cell_type": "code",
      "metadata": {
        "id": "-fnrbuSdpfjb"
      },
      "source": [
        "#LSTM Model\r\n",
        "model = Sequential()\r\n",
        "model.add(LSTM(50, return_sequences = True, input_shape=(x_train.shape[1], 1)))\r\n",
        "model.add(LSTM(50, return_sequences= False))\r\n",
        "model.add(Dense(25))\r\n",
        "model.add(Dense(1))"
      ],
      "execution_count": 47,
      "outputs": []
    },
    {
      "cell_type": "code",
      "metadata": {
        "id": "6u5ipayLqXhq"
      },
      "source": [
        "#Compile the model\r\n",
        "model.compile(optimizer='adam', loss='mean_squared_error')"
      ],
      "execution_count": 48,
      "outputs": []
    },
    {
      "cell_type": "code",
      "metadata": {
        "colab": {
          "base_uri": "https://localhost:8080/"
        },
        "id": "MxQWIOXnqmDF",
        "outputId": "1e53f644-79ab-457c-8226-72e6605e40c0"
      },
      "source": [
        "#Training\r\n",
        "model.fit(x_train, y_train, batch_size=1, epochs=10)"
      ],
      "execution_count": 77,
      "outputs": [
        {
          "output_type": "stream",
          "text": [
            "Epoch 1/10\n",
            "1350/1350 [==============================] - 31s 23ms/step - loss: 9.0292e-04\n",
            "Epoch 2/10\n",
            "1350/1350 [==============================] - 30s 22ms/step - loss: 9.9957e-04\n",
            "Epoch 3/10\n",
            "1350/1350 [==============================] - 30s 23ms/step - loss: 9.6628e-04\n",
            "Epoch 4/10\n",
            "1350/1350 [==============================] - 31s 23ms/step - loss: 9.2616e-04\n",
            "Epoch 5/10\n",
            "1350/1350 [==============================] - 31s 23ms/step - loss: 8.9402e-04\n",
            "Epoch 6/10\n",
            "1350/1350 [==============================] - 31s 23ms/step - loss: 0.0010\n",
            "Epoch 7/10\n",
            "1350/1350 [==============================] - 31s 23ms/step - loss: 9.6924e-04\n",
            "Epoch 8/10\n",
            "1350/1350 [==============================] - 31s 23ms/step - loss: 9.4618e-04\n",
            "Epoch 9/10\n",
            "1350/1350 [==============================] - 31s 23ms/step - loss: 9.9507e-04\n",
            "Epoch 10/10\n",
            "1350/1350 [==============================] - 31s 23ms/step - loss: 9.0346e-04\n"
          ],
          "name": "stdout"
        },
        {
          "output_type": "execute_result",
          "data": {
            "text/plain": [
              "<tensorflow.python.keras.callbacks.History at 0x7f42e6a14110>"
            ]
          },
          "metadata": {
            "tags": []
          },
          "execution_count": 77
        }
      ]
    },
    {
      "cell_type": "code",
      "metadata": {
        "id": "s1KN6ZeJrHTj"
      },
      "source": [
        "#Create the testing dataset\r\n",
        "test_data = scaled_data[training_data_len - 60:, :]\r\n",
        "x_test = []\r\n",
        "y_test = dataset[training_data_len:, :]\r\n",
        "\r\n",
        "for i in range(60, len(test_data)):\r\n",
        "  x_test.append(test_data[i-60:i, 0])"
      ],
      "execution_count": 78,
      "outputs": []
    },
    {
      "cell_type": "code",
      "metadata": {
        "id": "9bwc-Uzzsoxf"
      },
      "source": [
        "#Converting datat to numpy array\r\n",
        "x_test = np.array(x_test)\r\n",
        "#Reshaping the data because data is 2D and STM wants 3D\r\n",
        "x_test = np.reshape(x_test, (x_test.shape[0], x_test.shape[1], 1))"
      ],
      "execution_count": 79,
      "outputs": []
    },
    {
      "cell_type": "code",
      "metadata": {
        "id": "T9yMkxvHtI0_"
      },
      "source": [
        "#Predicted price values\r\n",
        "predictions = model.predict(x_test)\r\n",
        "predictions = scaler.inverse_transform(predictions)"
      ],
      "execution_count": 80,
      "outputs": []
    },
    {
      "cell_type": "code",
      "metadata": {
        "colab": {
          "base_uri": "https://localhost:8080/"
        },
        "id": "LzcismJ3tkTa",
        "outputId": "932bf542-9bd6-4b13-cc5a-863635aaf4d1"
      },
      "source": [
        "#RMSE for evauation\r\n",
        "rmse = np.sqrt(np.mean(predictions - y_test)**2)\r\n",
        "rmse"
      ],
      "execution_count": 81,
      "outputs": [
        {
          "output_type": "execute_result",
          "data": {
            "text/plain": [
              "1.9055420216647059"
            ]
          },
          "metadata": {
            "tags": []
          },
          "execution_count": 81
        }
      ]
    },
    {
      "cell_type": "code",
      "metadata": {
        "id": "9_xgX0Jk8quC"
      },
      "source": [
        "import matplotlib.pyplot as plt\r\n"
      ],
      "execution_count": 87,
      "outputs": []
    },
    {
      "cell_type": "code",
      "metadata": {
        "colab": {
          "base_uri": "https://localhost:8080/",
          "height": 458
        },
        "id": "2APxJQCD7Tsg",
        "outputId": "9d27655e-9671-4fb6-debf-41b1c10dc81f"
      },
      "source": [
        "#Visualize Not working right. Wrong graph\r\n",
        "train = data[:training_data_len]\r\n",
        "valid = data[training_data_len:]\r\n",
        "valid['Predictions'] = predictions\r\n",
        "#Visualize\r\n",
        "plt.figure(figsize=(16,8))\r\n",
        "plt.title('Model')\r\n",
        "plt.xlabel('Date', fontsize = 18)\r\n",
        "plt.ylabel('Close Price USD', fontsize = 18)\r\n",
        "plt.plot(train['Close'])\r\n",
        "#plt.plot(valid[['Close, Predictions']])\r\n",
        "plt.legend(['Train', 'Val', 'Predictions'], loc = 'lower right')\r\n",
        "plt.show()"
      ],
      "execution_count": 93,
      "outputs": [
        {
          "output_type": "stream",
          "text": [
            "/usr/local/lib/python3.7/dist-packages/ipykernel_launcher.py:3: SettingWithCopyWarning: \n",
            "A value is trying to be set on a copy of a slice from a DataFrame.\n",
            "Try using .loc[row_indexer,col_indexer] = value instead\n",
            "\n",
            "See the caveats in the documentation: https://pandas.pydata.org/pandas-docs/stable/user_guide/indexing.html#returning-a-view-versus-a-copy\n",
            "  This is separate from the ipykernel package so we can avoid doing imports until\n"
          ],
          "name": "stderr"
        },
        {
          "output_type": "display_data",
          "data": {
            "image/png": "[encoded data removed]",
            "text/plain": [
              "<Figure size 1152x576 with 1 Axes>"
            ]
          },
          "metadata": {
            "tags": []
          }
        }
      ]
    },
    {
      "cell_type": "code",
      "metadata": {
        "colab": {
          "base_uri": "https://localhost:8080/",
          "height": 450
        },
        "id": "hfwr4F8S-I7A",
        "outputId": "97ddf5ff-b622-41e2-87e6-65f51fd04110"
      },
      "source": [
        "#Vaid and Predicted Prices\r\n",
        "valid"
      ],
      "execution_count": 94,
      "outputs": [
        {
          "output_type": "execute_result",
          "data": {
            "text/html": [
              "<div>\n",
              "<style scoped>\n",
              "    .dataframe tbody tr th:only-of-type {\n",
              "        vertical-align: middle;\n",
              "    }\n",
              "\n",
              "    .dataframe tbody tr th {\n",
              "        vertical-align: top;\n",
              "    }\n",
              "\n",
              "    .dataframe thead th {\n",
              "        text-align: right;\n",
              "    }\n",
              "</style>\n",
              "<table border=\"1\" class=\"dataframe\">\n",
              "  <thead>\n",
              "    <tr style=\"text-align: right;\">\n",
              "      <th></th>\n",
              "      <th>Close</th>\n",
              "      <th>Predictions</th>\n",
              "    </tr>\n",
              "    <tr>\n",
              "      <th>Date</th>\n",
              "      <th></th>\n",
              "      <th></th>\n",
              "    </tr>\n",
              "  </thead>\n",
              "  <tbody>\n",
              "    <tr>\n",
              "      <th>2015-08-11</th>\n",
              "      <td>113.49</td>\n",
              "      <td>116.459862</td>\n",
              "    </tr>\n",
              "    <tr>\n",
              "      <th>2015-08-12</th>\n",
              "      <td>115.24</td>\n",
              "      <td>112.015739</td>\n",
              "    </tr>\n",
              "    <tr>\n",
              "      <th>2015-08-13</th>\n",
              "      <td>115.15</td>\n",
              "      <td>112.119865</td>\n",
              "    </tr>\n",
              "    <tr>\n",
              "      <th>2015-08-14</th>\n",
              "      <td>115.96</td>\n",
              "      <td>112.586250</td>\n",
              "    </tr>\n",
              "    <tr>\n",
              "      <th>2015-08-17</th>\n",
              "      <td>117.16</td>\n",
              "      <td>113.262924</td>\n",
              "    </tr>\n",
              "    <tr>\n",
              "      <th>...</th>\n",
              "      <td>...</td>\n",
              "      <td>...</td>\n",
              "    </tr>\n",
              "    <tr>\n",
              "      <th>2016-12-23</th>\n",
              "      <td>116.52</td>\n",
              "      <td>113.464577</td>\n",
              "    </tr>\n",
              "    <tr>\n",
              "      <th>2016-12-27</th>\n",
              "      <td>117.26</td>\n",
              "      <td>113.540909</td>\n",
              "    </tr>\n",
              "    <tr>\n",
              "      <th>2016-12-28</th>\n",
              "      <td>116.76</td>\n",
              "      <td>114.245461</td>\n",
              "    </tr>\n",
              "    <tr>\n",
              "      <th>2016-12-29</th>\n",
              "      <td>116.73</td>\n",
              "      <td>113.983223</td>\n",
              "    </tr>\n",
              "    <tr>\n",
              "      <th>2016-12-30</th>\n",
              "      <td>115.82</td>\n",
              "      <td>113.837158</td>\n",
              "    </tr>\n",
              "  </tbody>\n",
              "</table>\n",
              "<p>352 rows × 2 columns</p>\n",
              "</div>"
            ],
            "text/plain": [
              "             Close  Predictions\n",
              "Date                           \n",
              "2015-08-11  113.49   116.459862\n",
              "2015-08-12  115.24   112.015739\n",
              "2015-08-13  115.15   112.119865\n",
              "2015-08-14  115.96   112.586250\n",
              "2015-08-17  117.16   113.262924\n",
              "...            ...          ...\n",
              "2016-12-23  116.52   113.464577\n",
              "2016-12-27  117.26   113.540909\n",
              "2016-12-28  116.76   114.245461\n",
              "2016-12-29  116.73   113.983223\n",
              "2016-12-30  115.82   113.837158\n",
              "\n",
              "[352 rows x 2 columns]"
            ]
          },
          "metadata": {
            "tags": []
          },
          "execution_count": 94
        }
      ]
    },
    {
      "cell_type": "code",
      "metadata": {
        "id": "3dKEdbmfAjrW"
      },
      "source": [
        "from pandas_datareader import DataReader"
      ],
      "execution_count": 103,
      "outputs": []
    },
    {
      "cell_type": "code",
      "metadata": {
        "id": "StCr9jLJ-Vw5"
      },
      "source": [
        "appleq = web.Datareader('appl', data_source='yahoo', start='2012-01-01', end='2019-12-17')\r\n",
        "new_df = appleq.filter(['Close'])\r\n",
        "last_60days = new_df[-60:].values\r\n",
        "last_60days_scaler = scaler.transform(last_60days)\r\n",
        "X_test = []\r\n",
        "X_test.append(last_60days_scaler)\r\n",
        "x_test = np.array(X_test)\r\n",
        "X_test = np.reshape(X_test, (X_test.shape[0], X_test[1], 1))\r\n",
        "pred_price = model.predict(X_test)\r\n",
        "pred_price = scaler.inverse_transform(pred_price)\r\n",
        "print(pred_price)"
      ],
      "execution_count": 104,
      "outputs": []
    }
  ]
}